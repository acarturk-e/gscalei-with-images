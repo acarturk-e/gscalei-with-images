{
 "cells": [
  {
   "cell_type": "code",
   "execution_count": 4,
   "metadata": {},
   "outputs": [],
   "source": [
    "import os\n",
    "import pickle\n",
    "\n",
    "import numpy as np\n",
    "import numpy.typing as npt\n",
    "import torch\n",
    "from torch import Tensor\n",
    "\n",
    "from autoencoders import DenseAutoencoder, LinearAutoencoder\n",
    "from scm.box import BoxSCM\n",
    "\n",
    "import utils"
   ]
  },
  {
   "cell_type": "code",
   "execution_count": 5,
   "metadata": {},
   "outputs": [],
   "source": [
    "data_dir = \"data1\"\n",
    "latent_dim = 64"
   ]
  },
  {
   "cell_type": "code",
   "execution_count": 6,
   "metadata": {},
   "outputs": [
    {
     "name": "stdout",
     "output_type": "stream",
     "text": [
      "Loaded z and x data.\n",
      "zs_obs.shape = torch.Size([10000, 6]), xs_obs.shape = torch.Size([10000, 3, 64, 64])\n"
     ]
    }
   ],
   "source": [
    "# Load data generation config\n",
    "with open(\n",
    "    os.path.join(data_dir, \"generate_data_cfg.pkl\"),\n",
    "    \"rb\", pickle.HIGHEST_PROTOCOL\n",
    ") as f:\n",
    "    data = pickle.load(f)\n",
    "\n",
    "num_balls: int = data[\"num_balls\"]\n",
    "n: int = data[\"n\"]\n",
    "degree: int = data[\"degree\"]\n",
    "box_size: int = data[\"box_size\"]\n",
    "intervention_order: npt.NDArray[np.int_] = data[\"intervention_order\"]\n",
    "n_samples: int = data[\"n_samples\"]\n",
    "width: int = data[\"width\"]\n",
    "height: int = data[\"height\"]\n",
    "ball_radius: int = data[\"ball_radius\"]\n",
    "# data_dir = data[\"data_dir\"]  # DON'T!! we are supplying this\n",
    "scm: BoxSCM = data[\"scm\"]\n",
    "\n",
    "# Ground truth graph\n",
    "# Note the permutation by the intervention order\n",
    "dag_gt = scm.adj_mat\n",
    "dag_gt = dag_gt[intervention_order, :][:, intervention_order]\n",
    "\n",
    "# Load z and x data\n",
    "data = np.load(os.path.join(data_dir, \"z_and_x.npz\"))\n",
    "zs_obs = data[\"zs_obs\"]\n",
    "xs_obs = data[\"xs_obs\"]\n",
    "zs_obs = torch.from_numpy(zs_obs).float()\n",
    "xs_obs = torch.from_numpy(xs_obs).float().moveaxis(-1, -3) / 255.0\n",
    "print(f\"Loaded z and x data.\")\n",
    "print(f\"{zs_obs.shape = }, {xs_obs.shape = }\")"
   ]
  },
  {
   "cell_type": "code",
   "execution_count": 7,
   "metadata": {},
   "outputs": [],
   "source": [
    "# Load the trained autoencoder step 1\n",
    "autoenc1 = DenseAutoencoder(latent_dim)\n",
    "autoenc1.load_state_dict(torch.load(os.path.join(data_dir, f\"autoenc_reconstruct_{latent_dim}.pth\"), weights_only=True))\n",
    "autoenc1.requires_grad_(False)\n",
    "\n",
    "encoder1 = autoenc1.get_submodule(\"encoder\").requires_grad_(False)\n",
    "decoder1 = autoenc1.get_submodule(\"decoder\").requires_grad_(False)"
   ]
  },
  {
   "cell_type": "code",
   "execution_count": 8,
   "metadata": {},
   "outputs": [],
   "source": [
    "# Load the trained autoencoder step 2\n",
    "autoenc2 = LinearAutoencoder(n, latent_dim)\n",
    "autoenc2.load_state_dict(torch.load(os.path.join(data_dir, f\"autoenc_disentangle_{latent_dim}.pth\"), weights_only=True))\n",
    "autoenc2.requires_grad_(False)\n",
    "\n",
    "encoder2 = autoenc2.get_submodule(\"encoder\").requires_grad_(False)\n",
    "decoder2 = autoenc2.get_submodule(\"decoder\").requires_grad_(False)"
   ]
  },
  {
   "cell_type": "code",
   "execution_count": 9,
   "metadata": {},
   "outputs": [],
   "source": [
    "encoder = torch.nn.Sequential(encoder1, encoder2)\n",
    "decoder = torch.nn.Sequential(decoder2, decoder1)"
   ]
  },
  {
   "cell_type": "code",
   "execution_count": 10,
   "metadata": {},
   "outputs": [
    {
     "name": "stdout",
     "output_type": "stream",
     "text": [
      "z_mcc = np.float32(0.2719686)\n"
     ]
    }
   ],
   "source": [
    "### Part 2: Analysis\n",
    "\n",
    "## Latent variables recovery\n",
    "# Mean correlation coefficient\n",
    "zhats_obs = encoder(xs_obs)\n",
    "assert isinstance(zhats_obs, Tensor)\n",
    "z_mcc = utils.mcc(zhats_obs.detach().cpu().numpy(), zs_obs.detach().cpu().numpy())\n",
    "print(f\"{z_mcc = }\")"
   ]
  },
  {
   "cell_type": "markdown",
   "metadata": {},
   "source": [
    "See tensor(6256) for overlap"
   ]
  },
  {
   "cell_type": "code",
   "execution_count": 21,
   "metadata": {},
   "outputs": [
    {
     "data": {
      "text/plain": [
       "tensor(5838)"
      ]
     },
     "execution_count": 21,
     "metadata": {},
     "output_type": "execute_result"
    }
   ],
   "source": [
    "idx = torch.randint(0, zs_obs.shape[0], ())\n",
    "idx"
   ]
  },
  {
   "cell_type": "code",
   "execution_count": 22,
   "metadata": {},
   "outputs": [],
   "source": [
    "zhat_idx = encoder(xs_obs[idx:idx+1])[0]\n",
    "xhat_idx = decoder(zhat_idx.unsqueeze(0))[0]"
   ]
  },
  {
   "cell_type": "code",
   "execution_count": 23,
   "metadata": {},
   "outputs": [
    {
     "data": {
      "text/plain": [
       "<matplotlib.image.AxesImage at 0x7f780817fa50>"
      ]
     },
     "execution_count": 23,
     "metadata": {},
     "output_type": "execute_result"
    },
    {
     "data": {
      "image/png": "[encoded data removed]",
      "text/plain": [
       "<Figure size 640x480 with 1 Axes>"
      ]
     },
     "metadata": {},
     "output_type": "display_data"
    }
   ],
   "source": [
    "import matplotlib.pyplot as plt\n",
    "\n",
    "plt.imshow(xhat_idx.detach().cpu().moveaxis(-3, -1).numpy())"
   ]
  },
  {
   "cell_type": "code",
   "execution_count": 24,
   "metadata": {},
   "outputs": [
    {
     "data": {
      "text/plain": [
       "<matplotlib.image.AxesImage at 0x7f78081dfb50>"
      ]
     },
     "execution_count": 24,
     "metadata": {},
     "output_type": "execute_result"
    },
    {
     "data": {
      "image/png": "[encoded data removed]",
      "text/plain": [
       "<Figure size 640x480 with 1 Axes>"
      ]
     },
     "metadata": {},
     "output_type": "display_data"
    }
   ],
   "source": [
    "plt.imshow(xs_obs[idx].detach().cpu().moveaxis(-3, -1).numpy())"
   ]
  },
  {
   "cell_type": "code",
   "execution_count": 25,
   "metadata": {},
   "outputs": [
    {
     "data": {
      "text/plain": [
       "(tensor([[-0.2447, -0.1873, -0.3058, -0.0640, -0.4820, -0.1218],\n",
       "         [-0.4220,  0.0389, -0.1499,  0.0599, -0.4004,  0.1245],\n",
       "         [-0.2891,  0.1641,  0.4887,  0.3016,  0.2038, -0.4741],\n",
       "         [ 0.4978, -0.0373, -0.0117, -0.1052, -0.3175,  0.1177],\n",
       "         [-0.0349,  0.3333, -0.2572,  0.2673, -0.3485, -0.1109],\n",
       "         [-0.1917,  0.0231,  0.1623, -0.2657,  0.1474,  0.2621],\n",
       "         [ 0.2605,  0.3943, -0.0209, -0.1354,  0.3394, -0.2437],\n",
       "         [ 0.4353, -0.2990,  0.2595, -0.1460,  0.2303,  0.0679],\n",
       "         [ 0.1649,  0.4964,  0.3130, -0.0583, -0.3802,  0.4139],\n",
       "         [ 0.1021,  0.3934, -0.1169, -0.4677,  0.2859, -0.3870]]),\n",
       " tensor([[ 0.6817, -0.4396, -0.4761,  0.8062,  0.1399,  0.8225],\n",
       "         [-0.0534, -1.0100,  0.0598,  0.1808, -0.9394,  1.2894],\n",
       "         [ 0.2720, -0.2647,  0.0167, -0.6234,  0.6543,  1.8700],\n",
       "         [-0.5027, -0.5904,  0.3067,  0.7527, -1.5098,  1.5229],\n",
       "         [ 1.0286, -0.2895, -0.6340, -0.3271, -0.1741,  1.2955],\n",
       "         [-0.0411,  0.1532,  0.9511,  0.9119,  0.0483, -1.8113],\n",
       "         [-0.6284,  0.2166,  0.0858,  1.5070,  0.9289, -0.9180],\n",
       "         [-0.5596,  0.3713,  0.7629, -0.2580, -0.0557, -2.0808],\n",
       "         [ 0.0379, -0.5350,  0.6215,  0.2992,  0.4925,  0.0701],\n",
       "         [-0.0191,  0.1987,  0.0493,  0.2362,  1.0201,  0.3625]]))"
      ]
     },
     "execution_count": 25,
     "metadata": {},
     "output_type": "execute_result"
    }
   ],
   "source": [
    "zs_obs[:10], zhats_obs[:10]"
   ]
  }
 ],
 "metadata": {
  "kernelspec": {
   "display_name": "python-2024-10",
   "language": "python",
   "name": "python3"
  },
  "language_info": {
   "codemirror_mode": {
    "name": "ipython",
    "version": 3
   },
   "file_extension": ".py",
   "mimetype": "text/x-python",
   "name": "python",
   "nbconvert_exporter": "python",
   "pygments_lexer": "ipython3",
   "version": "3.11.10"
  }
 },
 "nbformat": 4,
 "nbformat_minor": 2
}
