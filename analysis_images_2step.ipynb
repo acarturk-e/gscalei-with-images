{
 "cells": [
  {
   "cell_type": "code",
   "execution_count": 1,
   "metadata": {},
   "outputs": [],
   "source": [
    "import os\n",
    "import pickle\n",
    "\n",
    "import numpy as np\n",
    "import numpy.typing as npt\n",
    "import torch\n",
    "from torch import Tensor\n",
    "\n",
    "from autoencoders import DenseAutoencoder, LinearAutoencoder\n",
    "from scm.box import BoxSCM\n",
    "\n",
    "import utils"
   ]
  },
  {
   "cell_type": "code",
   "execution_count": 2,
   "metadata": {},
   "outputs": [],
   "source": [
    "data_dir = \"_data1\"\n",
    "latent_dim = 16"
   ]
  },
  {
   "cell_type": "code",
   "execution_count": 3,
   "metadata": {},
   "outputs": [
    {
     "name": "stdout",
     "output_type": "stream",
     "text": [
      "Loaded z and x data.\n",
      "zs_obs.shape = torch.Size([10000, 6]), xs_obs.shape = torch.Size([10000, 3, 64, 64])\n"
     ]
    }
   ],
   "source": [
    "# Load data generation config\n",
    "with open(\n",
    "    os.path.join(data_dir, \"generate_data_cfg.pkl\"),\n",
    "    \"rb\", pickle.HIGHEST_PROTOCOL\n",
    ") as f:\n",
    "    data = pickle.load(f)\n",
    "\n",
    "num_balls: int = data[\"num_balls\"]\n",
    "n: int = data[\"n\"]\n",
    "degree: int = data[\"degree\"]\n",
    "box_size: int = data[\"box_size\"]\n",
    "intervention_order: npt.NDArray[np.int_] = data[\"intervention_order\"]\n",
    "n_samples: int = data[\"n_samples\"]\n",
    "width: int = data[\"width\"]\n",
    "height: int = data[\"height\"]\n",
    "ball_radius: int = data[\"ball_radius\"]\n",
    "# data_dir = data[\"data_dir\"]  # DON'T!! we are supplying this\n",
    "scm: BoxSCM = data[\"scm\"]\n",
    "\n",
    "# Ground truth graph\n",
    "# Note the permutation by the intervention order\n",
    "dag_gt = scm.adj_mat\n",
    "dag_gt = dag_gt[intervention_order, :][:, intervention_order]\n",
    "\n",
    "# Load z and x data\n",
    "data = np.load(os.path.join(data_dir, \"z_and_x.npz\"))\n",
    "zs_obs = data[\"zs_obs\"]\n",
    "xs_obs = data[\"xs_obs\"]\n",
    "zs_obs = torch.from_numpy(zs_obs).float()\n",
    "xs_obs = torch.from_numpy(xs_obs).float().moveaxis(-1, -3) / 255.0\n",
    "print(f\"Loaded z and x data.\")\n",
    "print(f\"{zs_obs.shape = }, {xs_obs.shape = }\")"
   ]
  },
  {
   "cell_type": "code",
   "execution_count": 4,
   "metadata": {},
   "outputs": [],
   "source": [
    "# Load the trained autoencoder step 1\n",
    "autoenc1 = DenseAutoencoder(latent_dim)\n",
    "autoenc1.load_state_dict(torch.load(os.path.join(data_dir, f\"autoenc_reconstruct_{latent_dim}.pth\"), weights_only=True))\n",
    "autoenc1.requires_grad_(False)\n",
    "\n",
    "encoder1 = autoenc1.get_submodule(\"encoder\").requires_grad_(False)\n",
    "decoder1 = autoenc1.get_submodule(\"decoder\").requires_grad_(False)"
   ]
  },
  {
   "cell_type": "code",
   "execution_count": null,
   "metadata": {},
   "outputs": [],
   "source": [
    "# Load the trained autoencoder step 2\n",
    "autoenc2 = LinearAutoencoder(n, latent_dim)\n",
    "autoenc2.load_state_dict(torch.load(os.path.join(data_dir, f\"autoenc_disentangle_{latent_dim}.pth\"), weights_only=True))\n",
    "autoenc2.requires_grad_(False)\n",
    "\n",
    "encoder2 = autoenc2.get_submodule(\"encoder\").requires_grad_(False)\n",
    "decoder2 = autoenc2.get_submodule(\"decoder\").requires_grad_(False)"
   ]
  },
  {
   "cell_type": "code",
   "execution_count": 6,
   "metadata": {},
   "outputs": [],
   "source": [
    "encoder = torch.nn.Sequential(encoder1, encoder2)\n",
    "decoder = torch.nn.Sequential(decoder2, decoder1)"
   ]
  },
  {
   "cell_type": "code",
   "execution_count": 7,
   "metadata": {},
   "outputs": [
    {
     "name": "stdout",
     "output_type": "stream",
     "text": [
      "z_mcc = np.float32(0.6647446)\n"
     ]
    }
   ],
   "source": [
    "### Part 2: Analysis\n",
    "\n",
    "## Latent variables recovery\n",
    "# Mean correlation coefficient\n",
    "zhats_obs = encoder(xs_obs)\n",
    "assert isinstance(zhats_obs, Tensor)\n",
    "z_mcc = utils.mcc(zhats_obs.detach().cpu().numpy(), zs_obs.detach().cpu().numpy())\n",
    "print(f\"{z_mcc = }\")"
   ]
  },
  {
   "cell_type": "markdown",
   "metadata": {},
   "source": [
    "See tensor(6256) for overlap"
   ]
  },
  {
   "cell_type": "code",
   "execution_count": 8,
   "metadata": {},
   "outputs": [
    {
     "data": {
      "text/plain": [
       "tensor(3877)"
      ]
     },
     "execution_count": 8,
     "metadata": {},
     "output_type": "execute_result"
    }
   ],
   "source": [
    "idx = torch.randint(0, zs_obs.shape[0], ())\n",
    "idx"
   ]
  },
  {
   "cell_type": "code",
   "execution_count": 9,
   "metadata": {},
   "outputs": [],
   "source": [
    "zhat_idx = encoder(xs_obs[idx:idx+1])[0]\n",
    "xhat_idx = decoder(zhat_idx.unsqueeze(0))[0]"
   ]
  },
  {
   "cell_type": "code",
   "execution_count": 10,
   "metadata": {},
   "outputs": [
    {
     "data": {
      "text/plain": [
       "<matplotlib.image.AxesImage at 0x7efd29988c90>"
      ]
     },
     "execution_count": 10,
     "metadata": {},
     "output_type": "execute_result"
    },
    {
     "data": {
      "image/png": "[encoded data removed]",
      "text/plain": [
       "<Figure size 640x480 with 1 Axes>"
      ]
     },
     "metadata": {},
     "output_type": "display_data"
    }
   ],
   "source": [
    "import matplotlib.pyplot as plt\n",
    "\n",
    "plt.imshow(xhat_idx.detach().cpu().moveaxis(-3, -1).numpy())"
   ]
  },
  {
   "cell_type": "code",
   "execution_count": 11,
   "metadata": {},
   "outputs": [
    {
     "data": {
      "text/plain": [
       "<matplotlib.image.AxesImage at 0x7efd25fd4c50>"
      ]
     },
     "execution_count": 11,
     "metadata": {},
     "output_type": "execute_result"
    },
    {
     "data": {
      "image/png": "[encoded data removed]",
      "text/plain": [
       "<Figure size 640x480 with 1 Axes>"
      ]
     },
     "metadata": {},
     "output_type": "display_data"
    }
   ],
   "source": [
    "plt.imshow(xs_obs[idx].detach().cpu().moveaxis(-3, -1).numpy())"
   ]
  },
  {
   "cell_type": "code",
   "execution_count": 12,
   "metadata": {},
   "outputs": [
    {
     "data": {
      "text/plain": [
       "(tensor([[ 0.0230, -0.0789,  0.2484,  0.0852,  0.0434, -0.0741],\n",
       "         [ 0.0079, -0.4032, -0.2466,  0.4138, -0.3405, -0.3348],\n",
       "         [ 0.4727, -0.0907,  0.3902,  0.4568,  0.2363,  0.0611],\n",
       "         [ 0.1415, -0.4528,  0.2029, -0.2911,  0.1031,  0.0519],\n",
       "         [-0.1390,  0.4046, -0.0070,  0.3928, -0.0344, -0.1818],\n",
       "         [ 0.3532,  0.4110, -0.4551,  0.0679,  0.1531,  0.2942],\n",
       "         [-0.3361,  0.3468,  0.3078, -0.3159, -0.1821,  0.0098],\n",
       "         [ 0.2231, -0.4248, -0.3827, -0.1110, -0.0285, -0.4196],\n",
       "         [-0.4839, -0.3197, -0.2295,  0.2269,  0.2382, -0.0776],\n",
       "         [ 0.4814, -0.0623,  0.1986, -0.3796,  0.3802,  0.2991]]),\n",
       " tensor([[-1.2891, -4.8242, -2.8673,  2.2205, -1.0572,  4.9621],\n",
       "         [-5.2812,  3.2960,  2.3989, -2.3841, -1.7807, -5.5625],\n",
       "         [ 1.5913,  0.0197, -3.7044,  6.7885,  3.8891, -0.3737],\n",
       "         [ 2.1671,  1.3441,  3.1016,  3.4712, -2.6040,  8.4722],\n",
       "         [-4.1640, -4.7242, -3.9932,  0.0532, -2.4742, -0.0445],\n",
       "         [ 6.0027, -0.7096, -0.7861,  2.3979,  2.1666, -5.5150],\n",
       "         [ 0.8406,  1.7744,  0.3424, -5.9056, -1.0363,  4.4731],\n",
       "         [-7.4100,  3.1215,  4.1669,  0.6558, -0.9277, -1.2513],\n",
       "         [-2.1292, -1.1468, -1.2995,  5.2378, -4.1494, -4.5889],\n",
       "         [ 4.1919,  5.2200,  1.8909,  4.0343,  6.4404,  2.9026]]))"
      ]
     },
     "execution_count": 12,
     "metadata": {},
     "output_type": "execute_result"
    }
   ],
   "source": [
    "zs_obs[:10], zhats_obs[:10]"
   ]
  }
 ],
 "metadata": {
  "kernelspec": {
   "display_name": "python-2024-10",
   "language": "python",
   "name": "python3"
  },
  "language_info": {
   "codemirror_mode": {
    "name": "ipython",
    "version": 3
   },
   "file_extension": ".py",
   "mimetype": "text/x-python",
   "name": "python",
   "nbconvert_exporter": "python",
   "pygments_lexer": "ipython3",
   "version": "3.11.10"
  }
 },
 "nbformat": 4,
 "nbformat_minor": 2
}
