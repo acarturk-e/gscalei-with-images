{
 "cells": [
  {
   "cell_type": "code",
   "execution_count": 208,
   "metadata": {},
   "outputs": [],
   "source": [
    "import os\n",
    "import pickle\n",
    "\n",
    "import numpy as np\n",
    "import numpy.typing as npt\n",
    "import torch\n",
    "\n",
    "from autoencoders import DenseAutoencoder as Autoencoder\n",
    "from scm.box import BoxSCM"
   ]
  },
  {
   "cell_type": "code",
   "execution_count": 209,
   "metadata": {},
   "outputs": [],
   "source": [
    "data_dir = \"_data1\"\n",
    "latent_dim = 64"
   ]
  },
  {
   "cell_type": "code",
   "execution_count": 210,
   "metadata": {},
   "outputs": [
    {
     "name": "stdout",
     "output_type": "stream",
     "text": [
      "Loaded z and x data.\n",
      "zs_obs.shape = torch.Size([10000, 6]), xs_obs.shape = torch.Size([10000, 3, 64, 64])\n"
     ]
    }
   ],
   "source": [
    "# Load data generation config\n",
    "with open(\n",
    "    os.path.join(data_dir, \"generate_data_cfg.pkl\"),\n",
    "    \"rb\", pickle.HIGHEST_PROTOCOL\n",
    ") as f:\n",
    "    data = pickle.load(f)\n",
    "\n",
    "num_balls: int = data[\"num_balls\"]\n",
    "n: int = data[\"n\"]\n",
    "degree: int = data[\"degree\"]\n",
    "box_size: int = data[\"box_size\"]\n",
    "intervention_order: npt.NDArray[np.int_] = data[\"intervention_order\"]\n",
    "n_samples: int = data[\"n_samples\"]\n",
    "width: int = data[\"width\"]\n",
    "height: int = data[\"height\"]\n",
    "ball_radius: int = data[\"ball_radius\"]\n",
    "# data_dir = data[\"data_dir\"]  # DON'T!! we are supplying this\n",
    "scm: BoxSCM = data[\"scm\"]\n",
    "\n",
    "# Ground truth graph\n",
    "# Note the permutation by the intervention order\n",
    "dag_gt = scm.adj_mat\n",
    "dag_gt = dag_gt[intervention_order, :][:, intervention_order]\n",
    "\n",
    "# Load z and x data\n",
    "data = np.load(os.path.join(data_dir, \"z_and_x.npz\"))\n",
    "zs_obs = data[\"zs_obs\"]\n",
    "xs_obs = data[\"xs_obs\"]\n",
    "zs_obs = torch.from_numpy(zs_obs).float()\n",
    "xs_obs = torch.from_numpy(xs_obs).float().moveaxis(-1, -3) / 255.0\n",
    "print(f\"Loaded z and x data.\")\n",
    "print(f\"{zs_obs.shape = }, {xs_obs.shape = }\")"
   ]
  },
  {
   "cell_type": "code",
   "execution_count": 211,
   "metadata": {},
   "outputs": [],
   "source": [
    "# Load the trained autoencoder\n",
    "autoenc = Autoencoder(latent_dim)\n",
    "autoenc.load_state_dict(torch.load(os.path.join(data_dir, f\"autoenc_{latent_dim}.pth\"), weights_only=True))\n",
    "autoenc.requires_grad_(False)\n",
    "\n",
    "encoder = autoenc.get_submodule(\"encoder\").requires_grad_(False)\n",
    "decoder = autoenc.get_submodule(\"decoder\").requires_grad_(False)"
   ]
  },
  {
   "cell_type": "code",
   "execution_count": 212,
   "metadata": {},
   "outputs": [],
   "source": [
    "# ### Part 2: Analysis\n",
    "\n",
    "# ## Latent variables recovery\n",
    "# # Mean correlation coefficient\n",
    "# zhats_obs = encoder(xs_obs)\n",
    "# assert isinstance(zhats_obs, Tensor)\n",
    "# z_mcc = utils.mcc(zhats_obs.detach().cpu().numpy(), zs_obs.detach().cpu().numpy())\n",
    "# print(f\"{z_mcc = }\")"
   ]
  },
  {
   "cell_type": "markdown",
   "metadata": {},
   "source": [
    "See tensor(6256) for overlap"
   ]
  },
  {
   "cell_type": "code",
   "execution_count": 213,
   "metadata": {},
   "outputs": [
    {
     "data": {
      "text/plain": [
       "tensor(9257)"
      ]
     },
     "execution_count": 213,
     "metadata": {},
     "output_type": "execute_result"
    }
   ],
   "source": [
    "idx = torch.randint(0, zs_obs.shape[0], ())\n",
    "idx"
   ]
  },
  {
   "cell_type": "code",
   "execution_count": 214,
   "metadata": {},
   "outputs": [],
   "source": [
    "zhat_idx = encoder(xs_obs[idx:idx+1])[0]\n",
    "xhat_idx = decoder(zhat_idx.unsqueeze(0))[0]"
   ]
  },
  {
   "cell_type": "code",
   "execution_count": 215,
   "metadata": {},
   "outputs": [
    {
     "data": {
      "text/plain": [
       "<matplotlib.image.AxesImage at 0x7fbda1a849d0>"
      ]
     },
     "execution_count": 215,
     "metadata": {},
     "output_type": "execute_result"
    },
    {
     "data": {
      "image/png": "[encoded data removed]",
      "text/plain": [
       "<Figure size 640x480 with 1 Axes>"
      ]
     },
     "metadata": {},
     "output_type": "display_data"
    }
   ],
   "source": [
    "import matplotlib.pyplot as plt\n",
    "\n",
    "plt.imshow(xhat_idx.detach().cpu().moveaxis(-3, -1).numpy())"
   ]
  },
  {
   "cell_type": "code",
   "execution_count": 216,
   "metadata": {},
   "outputs": [
    {
     "data": {
      "text/plain": [
       "<matplotlib.image.AxesImage at 0x7fbda1af6a50>"
      ]
     },
     "execution_count": 216,
     "metadata": {},
     "output_type": "execute_result"
    },
    {
     "data": {
      "image/png": "[encoded data removed]",
      "text/plain": [
       "<Figure size 640x480 with 1 Axes>"
      ]
     },
     "metadata": {},
     "output_type": "display_data"
    }
   ],
   "source": [
    "plt.imshow(xs_obs[idx].detach().cpu().moveaxis(-3, -1).numpy())"
   ]
  }
 ],
 "metadata": {
  "kernelspec": {
   "display_name": "python-2024-10",
   "language": "python",
   "name": "python3"
  },
  "language_info": {
   "codemirror_mode": {
    "name": "ipython",
    "version": 3
   },
   "file_extension": ".py",
   "mimetype": "text/x-python",
   "name": "python",
   "nbconvert_exporter": "python",
   "pygments_lexer": "ipython3",
   "version": "3.11.10"
  }
 },
 "nbformat": 4,
 "nbformat_minor": 2
}
